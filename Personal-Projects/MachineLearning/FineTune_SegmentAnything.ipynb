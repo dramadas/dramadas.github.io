{
 "cells": [
  {
   "cell_type": "markdown",
   "id": "3bfe0c00",
   "metadata": {},
   "source": [
    "## Fine Tuning SAM for Image Segmentation\n",
    "\n",
    "This project is a first attempt at fine-tuning SAM for femur segmentation. Images are omitted as the dataset is not public.\n",
    "\n",
    "This code was heavily referenced: https://colab.research.google.com/github/NielsRogge/Transformers-Tutorials/blob/master/SAM/Fine_tune_SAM_(segment_anything)_on_a_custom_dataset.ipynb\n",
    "\n",
    "Changes made from the example code above include:\n",
    "1) Modifications to work with femur image data <br>\n",
    "2) Addition of a validation dataset and loss plots <br>\n",
    "3) Initial metrics implementation <br>"
   ]
  },
  {
   "cell_type": "code",
   "execution_count": 1,
   "id": "8c0c273d",
   "metadata": {},
   "outputs": [],
   "source": [
    "from datasets import load_dataset, Dataset, Image"
   ]
  },
  {
   "cell_type": "code",
   "execution_count": 2,
   "id": "e54d371e",
   "metadata": {},
   "outputs": [],
   "source": [
    "import glob\n",
    "import numpy as np\n",
    "import cv2\n",
    "from torchvision import transforms"
   ]
  },
  {
   "cell_type": "code",
   "execution_count": 3,
   "id": "7557b1a7",
   "metadata": {},
   "outputs": [],
   "source": [
    "def create_dataset(image_paths, label_paths):\n",
    "    dataset = Dataset.from_dict({\"image\": sorted(image_paths),\n",
    "                                \"label\": sorted(label_paths)})\n",
    "    dataset = dataset.cast_column(\"image\", Image())\n",
    "    dataset = dataset.cast_column(\"label\", Image())\n",
    "\n",
    "    return dataset"
   ]
  },
  {
   "cell_type": "code",
   "execution_count": 4,
   "id": "f7aef68a",
   "metadata": {},
   "outputs": [],
   "source": [
    "image_list = glob.glob(\"sam_data\\\\train\\\\images_resized\\\\train\\*\")\n",
    "mask_list = glob.glob(\"sam_data\\\\train\\\\masks_resized\\\\train\\*\")\n",
    "val_image_list = glob.glob(\"sam_data\\\\train\\\\images_resized\\\\validation\\*\")\n",
    "val_mask_list = glob.glob(\"sam_data\\\\train\\\\masks_resized\\\\validation\\*\")"
   ]
  },
  {
   "cell_type": "code",
   "execution_count": 5,
   "id": "89b19208",
   "metadata": {},
   "outputs": [],
   "source": [
    "train_dataset = create_dataset(image_list, mask_list)\n",
    "val_dataset = create_dataset(val_image_list, val_mask_list)"
   ]
  },
  {
   "cell_type": "code",
   "execution_count": 6,
   "id": "75f72c49",
   "metadata": {},
   "outputs": [
    {
     "data": {
      "text/plain": [
       "{'image': <PIL.JpegImagePlugin.JpegImageFile image mode=RGB size=256x256>,\n",
       " 'label': <PIL.JpegImagePlugin.JpegImageFile image mode=L size=256x256>}"
      ]
     },
     "execution_count": 6,
     "metadata": {},
     "output_type": "execute_result"
    }
   ],
   "source": [
    "val_dataset[0]"
   ]
  },
  {
   "cell_type": "code",
   "execution_count": 7,
   "id": "2aa5a144",
   "metadata": {},
   "outputs": [
    {
     "data": {
      "text/plain": [
       "{'image': <PIL.JpegImagePlugin.JpegImageFile image mode=RGB size=256x256>,\n",
       " 'label': <PIL.JpegImagePlugin.JpegImageFile image mode=L size=256x256>}"
      ]
     },
     "execution_count": 7,
     "metadata": {},
     "output_type": "execute_result"
    }
   ],
   "source": [
    "val_dataset[0]"
   ]
  },
  {
   "cell_type": "code",
   "execution_count": null,
   "id": "f78e6dd2",
   "metadata": {},
   "outputs": [],
   "source": [
    "example = train_dataset[0]\n",
    "image = example[\"label\"]\n",
    "image"
   ]
  },
  {
   "cell_type": "code",
   "execution_count": 11,
   "id": "3db0599f",
   "metadata": {},
   "outputs": [],
   "source": [
    "def get_bounding_box(ground_truth_map):\n",
    "  # get bounding box from mask\n",
    "  y_indices, x_indices = np.where(ground_truth_map > 0)\n",
    "  x_min, x_max = np.min(x_indices), np.max(x_indices)\n",
    "  y_min, y_max = np.min(y_indices), np.max(y_indices)\n",
    "  # add perturbation to bounding box coordinates\n",
    "  H, W = ground_truth_map.shape\n",
    "  x_min = max(0, x_min - np.random.randint(0, 20))\n",
    "  x_max = min(W, x_max + np.random.randint(0, 20))\n",
    "  y_min = max(0, y_min - np.random.randint(0, 20))\n",
    "  y_max = min(H, y_max + np.random.randint(0, 20))\n",
    "  bbox = [x_min, y_min, x_max, y_max]\n",
    "\n",
    "  return bbox\n"
   ]
  },
  {
   "cell_type": "code",
   "execution_count": 12,
   "id": "0828f9e3",
   "metadata": {},
   "outputs": [],
   "source": [
    "from transformers import SamProcessor"
   ]
  },
  {
   "cell_type": "code",
   "execution_count": 13,
   "id": "921c78c2",
   "metadata": {},
   "outputs": [],
   "source": [
    "processor = SamProcessor.from_pretrained(\"facebook/sam-vit-large\")"
   ]
  },
  {
   "cell_type": "code",
   "execution_count": 14,
   "id": "fb6f34b5",
   "metadata": {},
   "outputs": [],
   "source": [
    "from torch.utils.data import Dataset\n",
    "\n",
    "class SAMDataset(Dataset):\n",
    "  def __init__(self, dataset, processor):\n",
    "    self.dataset = dataset\n",
    "    self.processor = processor\n",
    "\n",
    "  def __len__(self):\n",
    "    return len(self.dataset)\n",
    "\n",
    "  def __getitem__(self, idx):\n",
    "    item = self.dataset[idx]\n",
    "    image = item[\"image\"]\n",
    "    ground_truth_mask = np.array(item[\"label\"])\n",
    "\n",
    "    # get bounding box prompt\n",
    "    prompt = get_bounding_box(ground_truth_mask)\n",
    "\n",
    "    # prepare image and prompt for the model\n",
    "    inputs = self.processor(image, input_boxes=[[prompt]], return_tensors=\"pt\")\n",
    "\n",
    "    # remove batch dimension which the processor adds by default\n",
    "    inputs = {k:v.squeeze(0) for k,v in inputs.items()}\n",
    "\n",
    "    # add ground truth segmentation\n",
    "    inputs[\"ground_truth_mask\"] = ground_truth_mask\n",
    "\n",
    "    return inputs"
   ]
  },
  {
   "cell_type": "code",
   "execution_count": 15,
   "id": "64c9bbe5",
   "metadata": {},
   "outputs": [],
   "source": [
    "training_dataset = SAMDataset(dataset=train_dataset, processor=processor)\n",
    "validation_dataset = SAMDataset(dataset=val_dataset, processor=processor)"
   ]
  },
  {
   "cell_type": "code",
   "execution_count": 16,
   "id": "a54eea6f",
   "metadata": {},
   "outputs": [],
   "source": [
    "#print(train_dataset[0])"
   ]
  },
  {
   "cell_type": "code",
   "execution_count": 17,
   "id": "247f5b70",
   "metadata": {},
   "outputs": [
    {
     "name": "stdout",
     "output_type": "stream",
     "text": [
      "pixel_values torch.Size([3, 1024, 1024])\n",
      "original_sizes torch.Size([2])\n",
      "reshaped_input_sizes torch.Size([2])\n",
      "input_boxes torch.Size([1, 4])\n",
      "ground_truth_mask (256, 256)\n"
     ]
    }
   ],
   "source": [
    "example = training_dataset[0]\n",
    "for k,v in example.items():\n",
    "  print(k,v.shape)"
   ]
  },
  {
   "cell_type": "code",
   "execution_count": 18,
   "id": "161730e0",
   "metadata": {},
   "outputs": [
    {
     "name": "stdout",
     "output_type": "stream",
     "text": [
      "pixel_values torch.Size([3, 1024, 1024])\n",
      "original_sizes torch.Size([2])\n",
      "reshaped_input_sizes torch.Size([2])\n",
      "input_boxes torch.Size([1, 4])\n",
      "ground_truth_mask (256, 256)\n"
     ]
    }
   ],
   "source": [
    "example = validation_dataset[0]\n",
    "for k,v in example.items():\n",
    "  print(k,v.shape)"
   ]
  },
  {
   "cell_type": "code",
   "execution_count": 19,
   "id": "3acca96b",
   "metadata": {},
   "outputs": [],
   "source": [
    "from torch.utils.data import DataLoader\n",
    "\n",
    "train_dataloader = DataLoader(training_dataset, batch_size=2, shuffle=True)\n",
    "val_dataloader = DataLoader(validation_dataset, batch_size=1, shuffle=True)"
   ]
  },
  {
   "cell_type": "code",
   "execution_count": 20,
   "id": "4c8aea11",
   "metadata": {},
   "outputs": [
    {
     "name": "stdout",
     "output_type": "stream",
     "text": [
      "pixel_values torch.Size([2, 3, 1024, 1024])\n",
      "original_sizes torch.Size([2, 2])\n",
      "reshaped_input_sizes torch.Size([2, 2])\n",
      "input_boxes torch.Size([2, 1, 4])\n",
      "ground_truth_mask torch.Size([2, 256, 256])\n"
     ]
    }
   ],
   "source": [
    "\n",
    "batch = next(iter(train_dataloader))\n",
    "for k,v in batch.items():\n",
    "  print(k,v.shape)\n",
    "     "
   ]
  },
  {
   "cell_type": "code",
   "execution_count": 21,
   "id": "d22acd33",
   "metadata": {},
   "outputs": [
    {
     "name": "stdout",
     "output_type": "stream",
     "text": [
      "pixel_values torch.Size([2, 3, 1024, 1024])\n",
      "original_sizes torch.Size([2, 2])\n",
      "reshaped_input_sizes torch.Size([2, 2])\n",
      "input_boxes torch.Size([2, 1, 4])\n",
      "ground_truth_mask torch.Size([2, 256, 256])\n"
     ]
    }
   ],
   "source": [
    "batch_val = next(iter(val_dataloader))\n",
    "for k,v in batch.items():\n",
    "  print(k,v.shape)"
   ]
  },
  {
   "cell_type": "code",
   "execution_count": 22,
   "id": "a55b8267",
   "metadata": {},
   "outputs": [
    {
     "data": {
      "text/plain": [
       "torch.Size([2, 256, 256])"
      ]
     },
     "execution_count": 22,
     "metadata": {},
     "output_type": "execute_result"
    }
   ],
   "source": [
    "batch[\"ground_truth_mask\"].shape"
   ]
  },
  {
   "cell_type": "code",
   "execution_count": 23,
   "id": "5e4309fe",
   "metadata": {},
   "outputs": [],
   "source": [
    "from transformers import SamModel \n",
    "\n",
    "model = SamModel.from_pretrained(\"facebook/sam-vit-base\")\n",
    "\n",
    "# make sure we only compute gradients for mask decoder\n",
    "for name, param in model.named_parameters():\n",
    "  if name.startswith(\"vision_encoder\") or name.startswith(\"prompt_encoder\"):\n",
    "    param.requires_grad_(False)"
   ]
  },
  {
   "cell_type": "code",
   "execution_count": 24,
   "id": "96eef3f4",
   "metadata": {},
   "outputs": [],
   "source": [
    "from tqdm import tqdm\n",
    "from statistics import mean\n",
    "import torch\n",
    "from torch.nn.functional import threshold, normalize\n",
    "from torch import nn"
   ]
  },
  {
   "cell_type": "code",
   "execution_count": 25,
   "id": "9c903e58",
   "metadata": {},
   "outputs": [
    {
     "name": "stderr",
     "output_type": "stream",
     "text": [
      "C:\\Users\\Io\\anaconda3\\Lib\\site-packages\\paramiko\\transport.py:219: CryptographyDeprecationWarning: Blowfish has been deprecated\n",
      "  \"class\": algorithms.Blowfish,\n"
     ]
    }
   ],
   "source": [
    "# Define loss function and optimizer\n",
    "# seg_loss = torch.nn.BCEWithLogitsLoss()\n",
    "# optimizer = torch.optim.SGD(model.mask_decoder.parameters(), lr=1e-6, momentum=0.9)\n",
    "\n",
    "from torch.optim import Adam\n",
    "import monai\n",
    "\n",
    "# # Note: Hyperparameter tuning could improve performance here\n",
    "optimizer = Adam(model.mask_decoder.parameters(), lr=1e-7, weight_decay=0)\n",
    "\n",
    "seg_loss = monai.losses.DiceCELoss(sigmoid=True, squared_pred=True, reduction='mean')"
   ]
  },
  {
   "cell_type": "code",
   "execution_count": 26,
   "id": "a2b96447",
   "metadata": {
    "scrolled": true
   },
   "outputs": [
    {
     "name": "stderr",
     "output_type": "stream",
     "text": [
      "100%|██████████| 91/91 [00:24<00:00,  3.74it/s]\n",
      "100%|██████████| 20/20 [00:02<00:00,  8.14it/s]\n"
     ]
    },
    {
     "name": "stdout",
     "output_type": "stream",
     "text": [
      "EPOCH: 0\n",
      "Mean loss: 0.9942426740468203\n",
      "Mean validation loss: 0.9933887273073196\n"
     ]
    },
    {
     "name": "stderr",
     "output_type": "stream",
     "text": [
      "100%|██████████| 91/91 [00:22<00:00,  4.13it/s]\n",
      "100%|██████████| 20/20 [00:02<00:00,  8.08it/s]\n"
     ]
    },
    {
     "name": "stdout",
     "output_type": "stream",
     "text": [
      "EPOCH: 1\n",
      "Mean loss: 0.9939646151039626\n",
      "Mean validation loss: 0.9932122647762298\n"
     ]
    },
    {
     "name": "stderr",
     "output_type": "stream",
     "text": [
      "100%|██████████| 91/91 [00:21<00:00,  4.16it/s]\n",
      "100%|██████████| 20/20 [00:02<00:00,  8.10it/s]\n"
     ]
    },
    {
     "name": "stdout",
     "output_type": "stream",
     "text": [
      "EPOCH: 2\n",
      "Mean loss: 0.9936691051001078\n",
      "Mean validation loss: 0.9930955469608307\n"
     ]
    },
    {
     "name": "stderr",
     "output_type": "stream",
     "text": [
      "100%|██████████| 91/91 [00:21<00:00,  4.14it/s]\n",
      "100%|██████████| 20/20 [00:02<00:00,  8.02it/s]\n"
     ]
    },
    {
     "name": "stdout",
     "output_type": "stream",
     "text": [
      "EPOCH: 3\n",
      "Mean loss: 0.9934624590716519\n",
      "Mean validation loss: 0.9929210513830184\n"
     ]
    },
    {
     "name": "stderr",
     "output_type": "stream",
     "text": [
      "100%|██████████| 91/91 [00:21<00:00,  4.17it/s]\n",
      "100%|██████████| 20/20 [00:02<00:00,  8.04it/s]\n"
     ]
    },
    {
     "name": "stdout",
     "output_type": "stream",
     "text": [
      "EPOCH: 4\n",
      "Mean loss: 0.9932832803045001\n",
      "Mean validation loss: 0.9927516132593155\n"
     ]
    },
    {
     "name": "stderr",
     "output_type": "stream",
     "text": [
      "100%|██████████| 91/91 [00:21<00:00,  4.14it/s]\n",
      "100%|██████████| 20/20 [00:02<00:00,  7.91it/s]\n"
     ]
    },
    {
     "name": "stdout",
     "output_type": "stream",
     "text": [
      "EPOCH: 5\n",
      "Mean loss: 0.9932392678418003\n",
      "Mean validation loss: 0.9927959769964219\n"
     ]
    },
    {
     "name": "stderr",
     "output_type": "stream",
     "text": [
      "100%|██████████| 91/91 [00:22<00:00,  4.13it/s]\n",
      "100%|██████████| 20/20 [00:02<00:00,  7.89it/s]\n"
     ]
    },
    {
     "name": "stdout",
     "output_type": "stream",
     "text": [
      "EPOCH: 6\n",
      "Mean loss: 0.9930701543996622\n",
      "Mean validation loss: 0.9926429033279419\n"
     ]
    },
    {
     "name": "stderr",
     "output_type": "stream",
     "text": [
      "100%|██████████| 91/91 [00:22<00:00,  4.11it/s]\n",
      "100%|██████████| 20/20 [00:02<00:00,  8.04it/s]\n"
     ]
    },
    {
     "name": "stdout",
     "output_type": "stream",
     "text": [
      "EPOCH: 7\n",
      "Mean loss: 0.9929314740411528\n",
      "Mean validation loss: 0.9925996989011765\n"
     ]
    },
    {
     "name": "stderr",
     "output_type": "stream",
     "text": [
      "100%|██████████| 91/91 [00:22<00:00,  4.07it/s]\n",
      "100%|██████████| 20/20 [00:02<00:00,  7.90it/s]\n"
     ]
    },
    {
     "name": "stdout",
     "output_type": "stream",
     "text": [
      "EPOCH: 8\n",
      "Mean loss: 0.9928634284616826\n",
      "Mean validation loss: 0.9925371140241623\n"
     ]
    },
    {
     "name": "stderr",
     "output_type": "stream",
     "text": [
      "100%|██████████| 91/91 [00:22<00:00,  4.11it/s]\n",
      "100%|██████████| 20/20 [00:02<00:00,  7.96it/s]"
     ]
    },
    {
     "name": "stdout",
     "output_type": "stream",
     "text": [
      "EPOCH: 9\n",
      "Mean loss: 0.9927614914191948\n",
      "Mean validation loss: 0.992488619685173\n"
     ]
    },
    {
     "name": "stderr",
     "output_type": "stream",
     "text": [
      "\n"
     ]
    }
   ],
   "source": [
    "num_epochs = 10\n",
    "\n",
    "device = \"cuda\" if torch.cuda.is_available() else \"cpu\"\n",
    "model.to(device)\n",
    "all_train_losses = []\n",
    "all_val_losses = []\n",
    "\n",
    "model.train()\n",
    "for epoch in range(num_epochs):\n",
    "    epoch_losses = []\n",
    "    epoch_losses_val = []\n",
    "    for batch in tqdm(train_dataloader):\n",
    "      # forward pass\n",
    "        outputs = model(pixel_values=batch[\"pixel_values\"].to(device),\n",
    "                      input_boxes=batch[\"input_boxes\"].to(device),\n",
    "                      multimask_output=False)\n",
    "\n",
    "        # compute loss\n",
    "        predicted_masks = outputs.pred_masks.squeeze(1)\n",
    "        #print(\"predicted_masks\", predicted_masks)\n",
    "        thresh_masks = threshold(predicted_masks, 0, 0)\n",
    "        #print(\"thresh masks\", thresh_masks)\n",
    "        \n",
    "        ground_truth_masks = batch[\"ground_truth_mask\"].float().to(device)\n",
    "        loss = seg_loss(thresh_masks, ground_truth_masks.unsqueeze(1))\n",
    "\n",
    "        # backward pass (compute gradients of parameters w.r.t. loss)\n",
    "        optimizer.zero_grad()\n",
    "        loss.backward()\n",
    "\n",
    "        # optimize\n",
    "        optimizer.step()\n",
    "        epoch_losses.append(loss.item())\n",
    "    \n",
    "    all_train_losses.append(mean(epoch_losses))\n",
    "    \n",
    "    for batch_val in tqdm(val_dataloader):\n",
    "        outputs_val = model(pixel_values=batch_val[\"pixel_values\"].to(device),\n",
    "                  input_boxes=batch_val[\"input_boxes\"].to(device),\n",
    "                  multimask_output=False)\n",
    "        predicted_masks_val = outputs_val.pred_masks.squeeze(1)\n",
    "        ground_truth_masks_val = batch_val[\"ground_truth_mask\"].float().to(device)\n",
    "        loss_val = seg_loss(predicted_masks_val, ground_truth_masks_val.unsqueeze(1))\n",
    "        epoch_losses_val.append(loss_val.item())\n",
    "    all_val_losses.append(mean(epoch_losses_val))\n",
    "\n",
    "    print(f'EPOCH: {epoch}')\n",
    "    print(f'Mean loss: {mean(epoch_losses)}')\n",
    "    print(f'Mean validation loss: {mean(epoch_losses_val)}')"
   ]
  },
  {
   "cell_type": "code",
   "execution_count": 27,
   "id": "baaca80c",
   "metadata": {},
   "outputs": [],
   "source": [
    "import matplotlib.pyplot as plt\n"
   ]
  },
  {
   "cell_type": "code",
   "execution_count": 28,
   "id": "5bc54e8e",
   "metadata": {},
   "outputs": [
    {
     "data": {
      "text/plain": [
       "[<matplotlib.lines.Line2D at 0x1bd98bd3e90>]"
      ]
     },
     "execution_count": 28,
     "metadata": {},
     "output_type": "execute_result"
    },
    {
     "data": {
      "image/png": "[encoded data removed]",
      "text/plain": [
       "<Figure size 640x480 with 1 Axes>"
      ]
     },
     "metadata": {},
     "output_type": "display_data"
    }
   ],
   "source": [
    "plt.plot(all_train_losses)\n",
    "plt.plot(all_val_losses)"
   ]
  },
  {
   "cell_type": "code",
   "execution_count": null,
   "id": "3965cef2",
   "metadata": {},
   "outputs": [],
   "source": [
    "import numpy as np\n",
    "from PIL import Image\n",
    "\n",
    "# let's take a random training example\n",
    "idx = 10\n",
    "\n",
    "# load image\n",
    "image = train_dataset[idx][\"image\"]\n",
    "image"
   ]
  },
  {
   "cell_type": "code",
   "execution_count": 30,
   "id": "c2178fe8",
   "metadata": {},
   "outputs": [
    {
     "name": "stdout",
     "output_type": "stream",
     "text": [
      "pixel_values torch.Size([1, 3, 1024, 1024])\n",
      "original_sizes torch.Size([1, 2])\n",
      "reshaped_input_sizes torch.Size([1, 2])\n",
      "input_boxes torch.Size([1, 1, 4])\n"
     ]
    }
   ],
   "source": [
    "# get box prompt based on ground truth segmentation map\n",
    "ground_truth_mask = np.array(train_dataset[idx][\"label\"])\n",
    "prompt = get_bounding_box(ground_truth_mask)\n",
    "\n",
    "# prepare image + box prompt for the model\n",
    "inputs = processor(image, input_boxes=[[prompt]], return_tensors=\"pt\").to(device)\n",
    "for k,v in inputs.items():\n",
    "  print(k,v.shape)"
   ]
  },
  {
   "cell_type": "code",
   "execution_count": 31,
   "id": "7a8556f7",
   "metadata": {},
   "outputs": [],
   "source": [
    "model.eval()\n",
    "\n",
    "# forward pass\n",
    "with torch.no_grad():\n",
    "  outputs = model(**inputs, multimask_output=False)\n",
    "     "
   ]
  },
  {
   "cell_type": "code",
   "execution_count": 32,
   "id": "5eee9891",
   "metadata": {},
   "outputs": [],
   "source": [
    "# apply sigmoid\n",
    "seg_prob = torch.sigmoid(outputs.pred_masks.squeeze(1))\n",
    "# convert soft mask to hard mask\n",
    "seg_prob = seg_prob.cpu().numpy().squeeze()\n",
    "seg = (seg_prob > 0.5).astype(np.uint8)\n",
    "     "
   ]
  },
  {
   "cell_type": "code",
   "execution_count": null,
   "id": "9fe21ff6",
   "metadata": {},
   "outputs": [],
   "source": [
    "def show_mask(mask, ax, random_color=False):\n",
    "    if random_color:\n",
    "        color = np.concatenate([np.random.random(3), np.array([0.6])], axis=0)\n",
    "    else:\n",
    "        color = np.array([30/255, 144/255, 255/255, 0.6])\n",
    "    h, w = mask.shape[-2:]\n",
    "    mask_image = mask.reshape(h, w, 1) * color.reshape(1, 1, -1)\n",
    "    ax.imshow(mask_image)\n",
    "\n",
    "fig, axes = plt.subplots()\n",
    "\n",
    "axes.imshow(np.array(image))\n",
    "show_mask(seg, axes)\n",
    "axes.title.set_text(f\"Predicted mask\")\n",
    "axes.axis(\"off\")"
   ]
  },
  {
   "cell_type": "markdown",
   "id": "7bf05a26",
   "metadata": {},
   "source": [
    "The model is beginning to recognize rough edges around tools and the pelvis, but not accurate enough. Some possible strategies to improve:\n",
    "1) Using a larger dataset (this may have the highest impact) <br>\n",
    "2) Training for longer <br>\n",
    "3) Experimenting with other sam models <br>"
   ]
  },
  {
   "cell_type": "code",
   "execution_count": null,
   "id": "1e748038",
   "metadata": {},
   "outputs": [],
   "source": [
    "fig, axes = plt.subplots()\n",
    "\n",
    "axes.imshow(np.array(image))\n",
    "show_mask(ground_truth_mask, axes)\n",
    "axes.title.set_text(f\"Ground truth mask\")\n",
    "axes.axis(\"off\")"
   ]
  },
  {
   "cell_type": "markdown",
   "id": "f4b2b860",
   "metadata": {},
   "source": [
    "### Metrics "
   ]
  },
  {
   "cell_type": "code",
   "execution_count": 35,
   "id": "5102d828",
   "metadata": {},
   "outputs": [],
   "source": [
    "from torchmetrics.classification import BinaryJaccardIndex"
   ]
  },
  {
   "cell_type": "code",
   "execution_count": 36,
   "id": "7563b975",
   "metadata": {},
   "outputs": [],
   "source": [
    "jaccard = BinaryJaccardIndex()\n",
    "jaccard = (seg, ground_truth_mask)"
   ]
  },
  {
   "cell_type": "code",
   "execution_count": 38,
   "id": "b17ddc3e",
   "metadata": {},
   "outputs": [],
   "source": [
    "mean_jaccard = np.mean(jaccard[0])\n",
    "accuracy = mean_jaccard * 100"
   ]
  }
 ],
 "metadata": {
  "kernelspec": {
   "display_name": "Python 3 (ipykernel)",
   "language": "python",
   "name": "python3"
  },
  "language_info": {
   "codemirror_mode": {
    "name": "ipython",
    "version": 3
   },
   "file_extension": ".py",
   "mimetype": "text/x-python",
   "name": "python",
   "nbconvert_exporter": "python",
   "pygments_lexer": "ipython3",
   "version": "3.9.13"
  }
 },
 "nbformat": 4,
 "nbformat_minor": 5
}
