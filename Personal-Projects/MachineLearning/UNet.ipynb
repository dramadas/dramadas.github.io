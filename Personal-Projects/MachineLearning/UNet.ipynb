{
 "cells": [
  {
   "cell_type": "markdown",
   "id": "8b21ade6",
   "metadata": {},
   "source": [
    "# Deep Learning for Femur Segmentation\n",
    "\n",
    "This is a personal project to create a UNet model that can segment fluoroscopy images of femurs. Input and output images have been omitted from display as the dataset used is not public. <br>\n",
    "\n",
    "Code in this notebook is referenced from the following repo and also assistance from others: https://github.com/Mostafa-wael/U-Net-in-PyTorch/blob/main/U_Net.ipynb \n",
    "\n",
    "Changes made from example code above include:\n",
    "1) Modifications to work with custom femur dataset <br>\n",
    "2) Addition of train loss plot <br>\n",
    "3) Implementation of metrics <br> \n",
    "4) Export to ONNX and mean inference time <br>"
   ]
  },
  {
   "cell_type": "code",
   "execution_count": 1,
   "id": "7c68c3e7",
   "metadata": {},
   "outputs": [
    {
     "name": "stderr",
     "output_type": "stream",
     "text": [
      "C:\\Users\\Io\\anaconda3\\envs\\env_torch\\Lib\\site-packages\\torchvision\\io\\image.py:13: UserWarning: Failed to load image Python extension: 'Could not find module 'C:\\Users\\Io\\anaconda3\\envs\\env_torch\\Lib\\site-packages\\torchvision\\image.pyd' (or one of its dependencies). Try using the full path with constructor syntax.'If you don't plan on using image functionality from `torchvision.io`, you can ignore this warning. Otherwise, there might be something wrong with your environment. Did you have `libjpeg` or `libpng` installed before building `torchvision` from source?\n",
      "  warn(\n",
      "C:\\Users\\Io\\anaconda3\\envs\\env_torch\\Lib\\site-packages\\tqdm\\auto.py:21: TqdmWarning: IProgress not found. Please update jupyter and ipywidgets. See https://ipywidgets.readthedocs.io/en/stable/user_install.html\n",
      "  from .autonotebook import tqdm as notebook_tqdm\n"
     ]
    }
   ],
   "source": [
    "import matplotlib.pyplot as plt\n",
    "import numpy as np\n",
    "import random\n",
    "from functools import reduce\n",
    "import itertools\n",
    "from torch.utils.data import Dataset, DataLoader\n",
    "from torchvision import transforms, datasets, models\n",
    "from collections import defaultdict\n",
    "import torch.nn.functional as F\n",
    "import torch\n",
    "import torch.optim as optim\n",
    "from torch.optim import lr_scheduler\n",
    "import time\n",
    "import copy\n",
    "from tqdm import tqdm\n",
    "import torch\n",
    "import glob\n",
    "import cv2\n",
    "import pickle\n",
    "from multiprocessing import Pool\n",
    "from byol_pytorch import BYOL\n",
    "from torchvision import models\n",
    "\n",
    "device = torch.device(\"cuda:0\" if torch.cuda.is_available() else \"cpu\")"
   ]
  },
  {
   "cell_type": "markdown",
   "id": "be27e9e8",
   "metadata": {},
   "source": [
    "## Helper Functions\n",
    "\n",
    "These helper functions are used to create the Dataset."
   ]
  },
  {
   "cell_type": "code",
   "execution_count": 2,
   "id": "47e8b312",
   "metadata": {},
   "outputs": [],
   "source": [
    "def square_crop(img):\n",
    "    # crops an image to have its height match its width.\n",
    "    # crop is done only on the larger dim.\n",
    "\n",
    "    h = None\n",
    "    w = None\n",
    "    \n",
    "    if len(img.shape) == 3:\n",
    "        h, w, _ = img.shape\n",
    "    else:\n",
    "        h, w = img.shape\n",
    "    \n",
    "    if h > w:\n",
    "        diff = int(h - w) // 2\n",
    "        img = img[diff:h-diff:, :]\n",
    "    else:\n",
    "        diff = int(w - h) // 2\n",
    "        img = img[:, diff:w-diff]\n",
    "\n",
    "    return img\n",
    "\n",
    "\n",
    "def load_image(image_path, mode, image_size, threshold=False):\n",
    "    # thresholding fixes JPG artifacts\n",
    "    img = cv2.imread(image_path, mode)\n",
    "    img = square_crop(img)\n",
    "    if threshold:\n",
    "        _, img = cv2.threshold(img, 127, 255, cv2.THRESH_BINARY)\n",
    "    if image_size != -1:\n",
    "        img = cv2.resize(img, (image_size, image_size))\n",
    "    return img\n"
   ]
  },
  {
   "cell_type": "markdown",
   "id": "0edf3a5a",
   "metadata": {},
   "source": [
    "### Creating Dataset"
   ]
  },
  {
   "cell_type": "code",
   "execution_count": 8,
   "id": "25d0d9dc",
   "metadata": {},
   "outputs": [],
   "source": [
    "class FemurDataset(Dataset):\n",
    "\n",
    "    def __init__(self, image_size=-1):\n",
    "        super().__init__()\n",
    "\n",
    "        self.img_size  = image_size\n",
    "        self.transform = transforms.RandomInvert(p=0.05)\n",
    "\n",
    "        # load paths from pickle files\n",
    "        image_paths = []\n",
    "        label_paths = []\n",
    "\n",
    "        image_paths = glob.glob(r'C:\\dramadas\\data\\femur_seg_images\\*', recursive=True)\n",
    "        label_paths = glob.glob(r'C:\\dramadas\\data\\femur_seg_masks\\*', recursive=True)\n",
    "\n",
    "        self.image_paths = image_paths\n",
    "        self.label_paths = label_paths\n",
    "        assert len(self.image_paths) == len(self.label_paths)\n",
    "        \n",
    "\n",
    "    def __len__(self):\n",
    "        return len(self.image_paths)\n",
    "\n",
    "    def __getitem__(self, idx):\n",
    " \n",
    "        image     = load_image(self.image_paths[idx], cv2.IMREAD_COLOR,     self.img_size, False)\n",
    "\n",
    "        gt_mask   = load_image(self.label_paths[idx], cv2.IMREAD_GRAYSCALE, self.img_size, True)\n",
    " \n",
    "        image_t   = torch.Tensor(image/(255.0)).permute(2,0,1)\n",
    "\n",
    "        gt_mask_t = torch.Tensor(gt_mask/ 255.0).unsqueeze(0)\n",
    "\n",
    " \n",
    "        return [image_t, gt_mask_t]\n"
   ]
  },
  {
   "cell_type": "code",
   "execution_count": 9,
   "id": "a620757d",
   "metadata": {},
   "outputs": [
    {
     "name": "stdout",
     "output_type": "stream",
     "text": [
      "Image size:         torch.Size([3, 256, 256])\n",
      "GT Mask size:       torch.Size([1, 256, 256])\n"
     ]
    }
   ],
   "source": [
    "ds = FemurDataset(\n",
    "    image_size=256,\n",
    ")\n",
    "\n",
    "image, gt_mask = ds[0]\n",
    "\n",
    "print('Image size:        ',  image.size())\n",
    "print('GT Mask size:      ',  gt_mask.size())"
   ]
  },
  {
   "cell_type": "markdown",
   "id": "00c0a17e",
   "metadata": {},
   "source": [
    "Note: Check for mins and max to see if normalization is needed"
   ]
  },
  {
   "cell_type": "code",
   "execution_count": 10,
   "id": "a758ba81",
   "metadata": {},
   "outputs": [
    {
     "data": {
      "text/plain": [
       "tensor(0.)"
      ]
     },
     "execution_count": 10,
     "metadata": {},
     "output_type": "execute_result"
    }
   ],
   "source": [
    "torch.min(image)"
   ]
  },
  {
   "cell_type": "code",
   "execution_count": 11,
   "id": "3fbf5a61",
   "metadata": {},
   "outputs": [
    {
     "data": {
      "text/plain": [
       "tensor(1.)"
      ]
     },
     "execution_count": 11,
     "metadata": {},
     "output_type": "execute_result"
    }
   ],
   "source": [
    "torch.max(image)"
   ]
  },
  {
   "cell_type": "markdown",
   "id": "ecde263e",
   "metadata": {},
   "source": [
    "## View images here"
   ]
  },
  {
   "cell_type": "code",
   "execution_count": 12,
   "id": "5680c332",
   "metadata": {},
   "outputs": [
    {
     "name": "stdout",
     "output_type": "stream",
     "text": [
      "torch.Size([256, 256, 3])\n"
     ]
    }
   ],
   "source": [
    "image = image.permute(1,2,0)\n",
    "print(image.shape)\n",
    "# plt.imshow(image)\n",
    "# plt.show()"
   ]
  },
  {
   "cell_type": "code",
   "execution_count": 13,
   "id": "c14ab2f2",
   "metadata": {},
   "outputs": [],
   "source": [
    "image = gt_mask.squeeze()\n",
    "# plt.imshow(image)"
   ]
  },
  {
   "cell_type": "markdown",
   "id": "46c03e76",
   "metadata": {},
   "source": [
    "### Dataloader creation\n",
    "\n",
    "The train/test split used was 0.1."
   ]
  },
  {
   "cell_type": "code",
   "execution_count": 14,
   "id": "64aeb591",
   "metadata": {},
   "outputs": [
    {
     "name": "stdout",
     "output_type": "stream",
     "text": [
      "Train dataset size: 1,053\n",
      "Test dataset size:  116\n"
     ]
    }
   ],
   "source": [
    "batch_size = 2\n",
    "\n",
    "# split into train/test\n",
    "test_size  = int(len(ds) * 0.1)\n",
    "train_size = len(ds) - test_size\n",
    "print('Train dataset size: {:,}'.format(train_size))\n",
    "print('Test dataset size:  {:,}'.format(test_size))\n",
    "train_ds, test_ds = torch.utils.data.random_split(ds, [train_size, test_size])\n",
    "\n",
    "# create dataloaders\n",
    "train_loader = torch.utils.data.DataLoader(train_ds, batch_size=batch_size, shuffle=True)\n",
    "test_loader  = torch.utils.data.DataLoader(test_ds,  batch_size=batch_size, shuffle=True)"
   ]
  },
  {
   "cell_type": "markdown",
   "id": "f4bc330f",
   "metadata": {},
   "source": [
    "## Model Training Function"
   ]
  },
  {
   "cell_type": "code",
   "execution_count": 7,
   "id": "fc09440a",
   "metadata": {},
   "outputs": [],
   "source": [
    "def train_model(model, optimizer, num_epochs=5):\n",
    "    device = torch.device(\"cuda:0\" if torch.cuda.is_available() else \"cpu\")\n",
    "    best_loss = 1e10\n",
    "    loss_fn    = torch.nn.BCEWithLogitsLoss()\n",
    "    train_loss = 0.0\n",
    "    all_train_losses = []\n",
    "\n",
    "    for epoch in range(num_epochs):\n",
    "        print('Epoch {}/{}'.format(epoch, num_epochs - 1))\n",
    "        print('-' * 10)\n",
    "\n",
    "        for param_group in optimizer.param_groups:\n",
    "            print(\"LR\", param_group['lr'])\n",
    "\n",
    "        model.train()  # Set model to training mode\n",
    "\n",
    "        metrics = defaultdict(float)\n",
    "        epoch_samples = 0\n",
    "\n",
    "        for i, (image, gt_mask) in enumerate(tqdm(train_loader)):\n",
    "            inputs = image.to(device)\n",
    "            labels = gt_mask.to(device)\n",
    "\n",
    "            # forward\n",
    "            outputs = model(inputs)\n",
    "            loss = loss_fn(outputs.to(device), labels)\n",
    "\n",
    "            # zero the parameter gradients\n",
    "            optimizer.zero_grad()\n",
    "            # backward + optimize only if in training phase\n",
    "            loss.backward()\n",
    "            optimizer.step()\n",
    "\n",
    "            # statistics\n",
    "            epoch_samples += inputs.size(0)\n",
    "\n",
    "            #print_metrics(metrics, epoch_samples)\n",
    "            epoch_loss = metrics['loss'] / epoch_samples\n",
    "            \n",
    "            # update train loss\n",
    "            train_loss = train_loss + ((1 / (i + 1)) * (loss - train_loss))\n",
    "\n",
    "        train_loss = train_loss / len(train_loader) \n",
    "        print('Train loss: {:,}'.format(train_loss))\n",
    "        all_train_losses.append(train_loss.item())\n",
    "\n",
    "    plt.plot(all_train_losses)\n",
    "    return model\n",
    "\n"
   ]
  },
  {
   "cell_type": "markdown",
   "id": "b7e92c80",
   "metadata": {},
   "source": [
    "## UNet Model Definition"
   ]
  },
  {
   "cell_type": "code",
   "execution_count": 21,
   "id": "5c157054",
   "metadata": {},
   "outputs": [],
   "source": [
    "# First, the necessary modules are imported from the torch and torchvision packages, including the nn module for building neural networks and the pre-trained models provided in torchvision.models. \n",
    "# The relu function is also imported from torch.nn.functional.\n",
    "import torch\n",
    "import torch.nn as nn\n",
    "from torchvision import models\n",
    "from torch.nn.functional import relu\n",
    "\n",
    "\n",
    "# Then, a custom class UNet is defined as a subclass of nn.Module. \n",
    "# The __init__ method initializes the architecture of the U-Net by defining the layers for both the encoder and decoder parts of the network. \n",
    "# The argument n_class specifies the number of classes for the segmentation task.\n",
    "class UNet(nn.Module):\n",
    "    def __init__(self, n_class):\n",
    "        super().__init__()\n",
    "        \n",
    "        # Encoder\n",
    "        # In the encoder, convolutional layers with the Conv2d function are used to extract features from the input image. \n",
    "        # Each block in the encoder consists of two convolutional layers followed by a max-pooling layer, with the exception of the last block which does not include a max-pooling layer.\n",
    "        # -------\n",
    "        self.e11 = nn.Conv2d(3, 64, kernel_size=3, padding=1) \n",
    "        self.e12 = nn.Conv2d(64, 64, kernel_size=3, padding=1) \n",
    "        self.pool1 = nn.MaxPool2d(kernel_size=2, stride=2) \n",
    "\n",
    "        self.e21 = nn.Conv2d(64, 128, kernel_size=3, padding=1) \n",
    "        self.e22 = nn.Conv2d(128, 128, kernel_size=3, padding=1) \n",
    "        self.pool2 = nn.MaxPool2d(kernel_size=2, stride=2) \n",
    "\n",
    "        self.e31 = nn.Conv2d(128, 256, kernel_size=3, padding=1)\n",
    "        self.e32 = nn.Conv2d(256, 256, kernel_size=3, padding=1) \n",
    "        self.pool3 = nn.MaxPool2d(kernel_size=2, stride=2) \n",
    "\n",
    "        self.e41 = nn.Conv2d(256, 512, kernel_size=3, padding=1)\n",
    "        self.e42 = nn.Conv2d(512, 512, kernel_size=3, padding=1)\n",
    "        self.pool4 = nn.MaxPool2d(kernel_size=2, stride=2)\n",
    "\n",
    "        self.e51 = nn.Conv2d(512, 1024, kernel_size=3, padding=1)\n",
    "        self.e52 = nn.Conv2d(1024, 1024, kernel_size=3, padding=1) \n",
    "\n",
    "\n",
    "        # Decoder\n",
    "        # In the decoder, transpose convolutional layers with the ConvTranspose2d function are used to upsample the feature maps to the original size of the input image. \n",
    "        # Each block in the decoder consists of an upsampling layer, a concatenation with the corresponding encoder feature map, and two convolutional layers.\n",
    "        # -------\n",
    "        self.upconv1 = nn.ConvTranspose2d(1024, 512, kernel_size=2, stride=2)\n",
    "        self.d11 = nn.Conv2d(1024, 512, kernel_size=3, padding=1)\n",
    "        self.d12 = nn.Conv2d(512, 512, kernel_size=3, padding=1)\n",
    "\n",
    "        self.upconv2 = nn.ConvTranspose2d(512, 256, kernel_size=2, stride=2)\n",
    "        self.d21 = nn.Conv2d(512, 256, kernel_size=3, padding=1)\n",
    "        self.d22 = nn.Conv2d(256, 256, kernel_size=3, padding=1)\n",
    "\n",
    "        self.upconv3 = nn.ConvTranspose2d(256, 128, kernel_size=2, stride=2)\n",
    "        self.d31 = nn.Conv2d(256, 128, kernel_size=3, padding=1)\n",
    "        self.d32 = nn.Conv2d(128, 128, kernel_size=3, padding=1)\n",
    "\n",
    "        self.upconv4 = nn.ConvTranspose2d(128, 64, kernel_size=2, stride=2)\n",
    "        self.d41 = nn.Conv2d(128, 64, kernel_size=3, padding=1)\n",
    "        self.d42 = nn.Conv2d(64, 64, kernel_size=3, padding=1)\n",
    "\n",
    "        # Output layer\n",
    "        self.outconv = nn.Conv2d(64, n_class, kernel_size=1)\n",
    "\n",
    "    def forward(self, x):\n",
    "        # Encoder\n",
    "        xe11 = relu(self.e11(x))\n",
    "        xe12 = relu(self.e12(xe11))\n",
    "        xp1 = self.pool1(xe12)\n",
    "\n",
    "        xe21 = relu(self.e21(xp1))\n",
    "        xe22 = relu(self.e22(xe21))\n",
    "        xp2 = self.pool2(xe22)\n",
    "\n",
    "        xe31 = relu(self.e31(xp2))\n",
    "        xe32 = relu(self.e32(xe31))\n",
    "        xp3 = self.pool3(xe32)\n",
    "\n",
    "        xe41 = relu(self.e41(xp3))\n",
    "        xe42 = relu(self.e42(xe41))\n",
    "        xp4 = self.pool4(xe42)\n",
    "\n",
    "        xe51 = relu(self.e51(xp4))\n",
    "        xe52 = relu(self.e52(xe51))\n",
    "        \n",
    "        # Decoder\n",
    "        xu1 = self.upconv1(xe52)\n",
    "        xu11 = torch.cat([xu1, xe42], dim=1)\n",
    "        xd11 = relu(self.d11(xu11))\n",
    "        xd12 = relu(self.d12(xd11))\n",
    "\n",
    "        xu2 = self.upconv2(xd12)\n",
    "        xu22 = torch.cat([xu2, xe32], dim=1)\n",
    "        xd21 = relu(self.d21(xu22))\n",
    "        xd22 = relu(self.d22(xd21))\n",
    "\n",
    "        xu3 = self.upconv3(xd22)\n",
    "        xu33 = torch.cat([xu3, xe22], dim=1)\n",
    "        xd31 = relu(self.d31(xu33))\n",
    "        xd32 = relu(self.d32(xd31))\n",
    "\n",
    "        xu4 = self.upconv4(xd32)\n",
    "        xu44 = torch.cat([xu4, xe12], dim=1)\n",
    "        xd41 = relu(self.d41(xu44))\n",
    "        xd42 = relu(self.d42(xd41))\n",
    "\n",
    "        # Output layer\n",
    "        out = self.outconv(xd42)\n",
    "\n",
    "        return out"
   ]
  },
  {
   "cell_type": "code",
   "execution_count": 22,
   "id": "3785ae3d-bc30-49dd-8f21-aa5cad070e96",
   "metadata": {},
   "outputs": [],
   "source": [
    "device = torch.device(\"cuda:0\" if torch.cuda.is_available() else \"cpu\")"
   ]
  },
  {
   "cell_type": "markdown",
   "id": "b6405e2d",
   "metadata": {},
   "source": [
    "### Train model\n"
   ]
  },
  {
   "cell_type": "code",
   "execution_count": 12,
   "id": "47dc9ee6",
   "metadata": {
    "scrolled": true
   },
   "outputs": [
    {
     "name": "stdout",
     "output_type": "stream",
     "text": [
      "Epoch 0/49\n",
      "----------\n",
      "LR 0.0001\n"
     ]
    },
    {
     "name": "stderr",
     "output_type": "stream",
     "text": [
      "100%|██████████| 527/527 [00:14<00:00, 37.34it/s]\n"
     ]
    },
    {
     "name": "stdout",
     "output_type": "stream",
     "text": [
      "Train loss: 0.000805570394732058\n",
      "Epoch 1/49\n",
      "----------\n",
      "LR 0.0001\n"
     ]
    },
    {
     "name": "stderr",
     "output_type": "stream",
     "text": [
      "100%|██████████| 527/527 [00:11<00:00, 45.33it/s]\n"
     ]
    },
    {
     "name": "stdout",
     "output_type": "stream",
     "text": [
      "Train loss: 0.0006636857870034873\n",
      "Epoch 2/49\n",
      "----------\n",
      "LR 0.0001\n"
     ]
    },
    {
     "name": "stderr",
     "output_type": "stream",
     "text": [
      "100%|██████████| 527/527 [00:11<00:00, 45.35it/s]\n"
     ]
    },
    {
     "name": "stdout",
     "output_type": "stream",
     "text": [
      "Train loss: 0.0005407611606642604\n",
      "Epoch 3/49\n",
      "----------\n",
      "LR 0.0001\n"
     ]
    },
    {
     "name": "stderr",
     "output_type": "stream",
     "text": [
      "100%|██████████| 527/527 [00:11<00:00, 45.24it/s]\n"
     ]
    },
    {
     "name": "stdout",
     "output_type": "stream",
     "text": [
      "Train loss: 0.00040144388913176954\n",
      "Epoch 4/49\n",
      "----------\n",
      "LR 0.0001\n"
     ]
    },
    {
     "name": "stderr",
     "output_type": "stream",
     "text": [
      "100%|██████████| 527/527 [00:11<00:00, 45.29it/s]\n"
     ]
    },
    {
     "name": "stdout",
     "output_type": "stream",
     "text": [
      "Train loss: 0.0002845249546226114\n",
      "Epoch 5/49\n",
      "----------\n",
      "LR 0.0001\n"
     ]
    },
    {
     "name": "stderr",
     "output_type": "stream",
     "text": [
      "100%|██████████| 527/527 [00:11<00:00, 45.07it/s]\n"
     ]
    },
    {
     "name": "stdout",
     "output_type": "stream",
     "text": [
      "Train loss: 0.00021727022249251604\n",
      "Epoch 6/49\n",
      "----------\n",
      "LR 0.0001\n"
     ]
    },
    {
     "name": "stderr",
     "output_type": "stream",
     "text": [
      "100%|██████████| 527/527 [00:11<00:00, 45.20it/s]\n"
     ]
    },
    {
     "name": "stdout",
     "output_type": "stream",
     "text": [
      "Train loss: 0.00016706286987755448\n",
      "Epoch 7/49\n",
      "----------\n",
      "LR 0.0001\n"
     ]
    },
    {
     "name": "stderr",
     "output_type": "stream",
     "text": [
      "100%|██████████| 527/527 [00:11<00:00, 45.03it/s]\n"
     ]
    },
    {
     "name": "stdout",
     "output_type": "stream",
     "text": [
      "Train loss: 0.00012001071445411071\n",
      "Epoch 8/49\n",
      "----------\n",
      "LR 0.0001\n"
     ]
    },
    {
     "name": "stderr",
     "output_type": "stream",
     "text": [
      "100%|██████████| 527/527 [00:11<00:00, 45.23it/s]\n"
     ]
    },
    {
     "name": "stdout",
     "output_type": "stream",
     "text": [
      "Train loss: 0.00011007461580447853\n",
      "Epoch 9/49\n",
      "----------\n",
      "LR 0.0001\n"
     ]
    },
    {
     "name": "stderr",
     "output_type": "stream",
     "text": [
      "100%|██████████| 527/527 [00:11<00:00, 44.63it/s]\n"
     ]
    },
    {
     "name": "stdout",
     "output_type": "stream",
     "text": [
      "Train loss: 7.555248885182664e-05\n",
      "Epoch 10/49\n",
      "----------\n",
      "LR 0.0001\n"
     ]
    },
    {
     "name": "stderr",
     "output_type": "stream",
     "text": [
      "100%|██████████| 527/527 [00:11<00:00, 44.71it/s]\n"
     ]
    },
    {
     "name": "stdout",
     "output_type": "stream",
     "text": [
      "Train loss: 8.314515434904024e-05\n",
      "Epoch 11/49\n",
      "----------\n",
      "LR 0.0001\n"
     ]
    },
    {
     "name": "stderr",
     "output_type": "stream",
     "text": [
      "100%|██████████| 527/527 [00:11<00:00, 45.06it/s]\n"
     ]
    },
    {
     "name": "stdout",
     "output_type": "stream",
     "text": [
      "Train loss: 6.827019387856126e-05\n",
      "Epoch 12/49\n",
      "----------\n",
      "LR 0.0001\n"
     ]
    },
    {
     "name": "stderr",
     "output_type": "stream",
     "text": [
      "100%|██████████| 527/527 [00:11<00:00, 45.03it/s]\n"
     ]
    },
    {
     "name": "stdout",
     "output_type": "stream",
     "text": [
      "Train loss: 5.670906466548331e-05\n",
      "Epoch 13/49\n",
      "----------\n",
      "LR 0.0001\n"
     ]
    },
    {
     "name": "stderr",
     "output_type": "stream",
     "text": [
      "100%|██████████| 527/527 [00:11<00:00, 44.97it/s]\n"
     ]
    },
    {
     "name": "stdout",
     "output_type": "stream",
     "text": [
      "Train loss: 7.568490400444716e-05\n",
      "Epoch 14/49\n",
      "----------\n",
      "LR 0.0001\n"
     ]
    },
    {
     "name": "stderr",
     "output_type": "stream",
     "text": [
      "100%|██████████| 527/527 [00:11<00:00, 44.96it/s]\n"
     ]
    },
    {
     "name": "stdout",
     "output_type": "stream",
     "text": [
      "Train loss: 4.55875342595391e-05\n",
      "Epoch 15/49\n",
      "----------\n",
      "LR 0.0001\n"
     ]
    },
    {
     "name": "stderr",
     "output_type": "stream",
     "text": [
      "100%|██████████| 527/527 [00:11<00:00, 45.14it/s]\n"
     ]
    },
    {
     "name": "stdout",
     "output_type": "stream",
     "text": [
      "Train loss: 3.8926478737266734e-05\n",
      "Epoch 16/49\n",
      "----------\n",
      "LR 0.0001\n"
     ]
    },
    {
     "name": "stderr",
     "output_type": "stream",
     "text": [
      "100%|██████████| 527/527 [00:11<00:00, 45.00it/s]\n"
     ]
    },
    {
     "name": "stdout",
     "output_type": "stream",
     "text": [
      "Train loss: 3.682324677356519e-05\n",
      "Epoch 17/49\n",
      "----------\n",
      "LR 0.0001\n"
     ]
    },
    {
     "name": "stderr",
     "output_type": "stream",
     "text": [
      "100%|██████████| 527/527 [00:11<00:00, 45.02it/s]\n"
     ]
    },
    {
     "name": "stdout",
     "output_type": "stream",
     "text": [
      "Train loss: 5.768265327787958e-05\n",
      "Epoch 18/49\n",
      "----------\n",
      "LR 0.0001\n"
     ]
    },
    {
     "name": "stderr",
     "output_type": "stream",
     "text": [
      "100%|██████████| 527/527 [00:11<00:00, 44.89it/s]\n"
     ]
    },
    {
     "name": "stdout",
     "output_type": "stream",
     "text": [
      "Train loss: 5.9928453993052244e-05\n",
      "Epoch 19/49\n",
      "----------\n",
      "LR 0.0001\n"
     ]
    },
    {
     "name": "stderr",
     "output_type": "stream",
     "text": [
      "100%|██████████| 527/527 [00:11<00:00, 45.08it/s]\n"
     ]
    },
    {
     "name": "stdout",
     "output_type": "stream",
     "text": [
      "Train loss: 3.436277256696485e-05\n",
      "Epoch 20/49\n",
      "----------\n",
      "LR 0.0001\n"
     ]
    },
    {
     "name": "stderr",
     "output_type": "stream",
     "text": [
      "100%|██████████| 527/527 [00:11<00:00, 44.98it/s]\n"
     ]
    },
    {
     "name": "stdout",
     "output_type": "stream",
     "text": [
      "Train loss: 4.274718594388105e-05\n",
      "Epoch 21/49\n",
      "----------\n",
      "LR 0.0001\n"
     ]
    },
    {
     "name": "stderr",
     "output_type": "stream",
     "text": [
      "100%|██████████| 527/527 [00:11<00:00, 45.13it/s]\n"
     ]
    },
    {
     "name": "stdout",
     "output_type": "stream",
     "text": [
      "Train loss: 3.630372884799726e-05\n",
      "Epoch 22/49\n",
      "----------\n",
      "LR 0.0001\n"
     ]
    },
    {
     "name": "stderr",
     "output_type": "stream",
     "text": [
      "100%|██████████| 527/527 [00:11<00:00, 44.96it/s]\n"
     ]
    },
    {
     "name": "stdout",
     "output_type": "stream",
     "text": [
      "Train loss: 3.046568963327445e-05\n",
      "Epoch 23/49\n",
      "----------\n",
      "LR 0.0001\n"
     ]
    },
    {
     "name": "stderr",
     "output_type": "stream",
     "text": [
      "100%|██████████| 527/527 [00:11<00:00, 45.09it/s]\n"
     ]
    },
    {
     "name": "stdout",
     "output_type": "stream",
     "text": [
      "Train loss: 3.9794704207452014e-05\n",
      "Epoch 24/49\n",
      "----------\n",
      "LR 0.0001\n"
     ]
    },
    {
     "name": "stderr",
     "output_type": "stream",
     "text": [
      "100%|██████████| 527/527 [00:11<00:00, 44.91it/s]\n"
     ]
    },
    {
     "name": "stdout",
     "output_type": "stream",
     "text": [
      "Train loss: 4.320457446738146e-05\n",
      "Epoch 25/49\n",
      "----------\n",
      "LR 0.0001\n"
     ]
    },
    {
     "name": "stderr",
     "output_type": "stream",
     "text": [
      "100%|██████████| 527/527 [00:11<00:00, 44.89it/s]\n"
     ]
    },
    {
     "name": "stdout",
     "output_type": "stream",
     "text": [
      "Train loss: 2.639856029418297e-05\n",
      "Epoch 26/49\n",
      "----------\n",
      "LR 0.0001\n"
     ]
    },
    {
     "name": "stderr",
     "output_type": "stream",
     "text": [
      "100%|██████████| 527/527 [00:11<00:00, 44.94it/s]\n"
     ]
    },
    {
     "name": "stdout",
     "output_type": "stream",
     "text": [
      "Train loss: 2.651043178047985e-05\n",
      "Epoch 27/49\n",
      "----------\n",
      "LR 0.0001\n"
     ]
    },
    {
     "name": "stderr",
     "output_type": "stream",
     "text": [
      "100%|██████████| 527/527 [00:11<00:00, 44.50it/s]\n"
     ]
    },
    {
     "name": "stdout",
     "output_type": "stream",
     "text": [
      "Train loss: 3.6204954085405916e-05\n",
      "Epoch 28/49\n",
      "----------\n",
      "LR 0.0001\n"
     ]
    },
    {
     "name": "stderr",
     "output_type": "stream",
     "text": [
      "100%|██████████| 527/527 [00:11<00:00, 43.96it/s]\n"
     ]
    },
    {
     "name": "stdout",
     "output_type": "stream",
     "text": [
      "Train loss: 2.6404584787087515e-05\n",
      "Epoch 29/49\n",
      "----------\n",
      "LR 0.0001\n"
     ]
    },
    {
     "name": "stderr",
     "output_type": "stream",
     "text": [
      "100%|██████████| 527/527 [00:11<00:00, 45.05it/s]\n"
     ]
    },
    {
     "name": "stdout",
     "output_type": "stream",
     "text": [
      "Train loss: 2.0861984012299217e-05\n",
      "Epoch 30/49\n",
      "----------\n",
      "LR 0.0001\n"
     ]
    },
    {
     "name": "stderr",
     "output_type": "stream",
     "text": [
      "100%|██████████| 527/527 [00:11<00:00, 44.93it/s]\n"
     ]
    },
    {
     "name": "stdout",
     "output_type": "stream",
     "text": [
      "Train loss: 1.9780136426561512e-05\n",
      "Epoch 31/49\n",
      "----------\n",
      "LR 0.0001\n"
     ]
    },
    {
     "name": "stderr",
     "output_type": "stream",
     "text": [
      "100%|██████████| 527/527 [00:11<00:00, 44.82it/s]\n"
     ]
    },
    {
     "name": "stdout",
     "output_type": "stream",
     "text": [
      "Train loss: 1.8663144146557897e-05\n",
      "Epoch 32/49\n",
      "----------\n",
      "LR 0.0001\n"
     ]
    },
    {
     "name": "stderr",
     "output_type": "stream",
     "text": [
      "100%|██████████| 527/527 [00:11<00:00, 44.54it/s]\n"
     ]
    },
    {
     "name": "stdout",
     "output_type": "stream",
     "text": [
      "Train loss: 1.8136845028493553e-05\n",
      "Epoch 33/49\n",
      "----------\n",
      "LR 0.0001\n"
     ]
    },
    {
     "name": "stderr",
     "output_type": "stream",
     "text": [
      "100%|██████████| 527/527 [00:11<00:00, 44.82it/s]\n"
     ]
    },
    {
     "name": "stdout",
     "output_type": "stream",
     "text": [
      "Train loss: 1.825170693336986e-05\n",
      "Epoch 34/49\n",
      "----------\n",
      "LR 0.0001\n"
     ]
    },
    {
     "name": "stderr",
     "output_type": "stream",
     "text": [
      "100%|██████████| 527/527 [00:11<00:00, 44.94it/s]\n"
     ]
    },
    {
     "name": "stdout",
     "output_type": "stream",
     "text": [
      "Train loss: 3.71872192772571e-05\n",
      "Epoch 35/49\n",
      "----------\n",
      "LR 0.0001\n"
     ]
    },
    {
     "name": "stderr",
     "output_type": "stream",
     "text": [
      "100%|██████████| 527/527 [00:11<00:00, 44.55it/s]\n"
     ]
    },
    {
     "name": "stdout",
     "output_type": "stream",
     "text": [
      "Train loss: 4.301784429117106e-05\n",
      "Epoch 36/49\n",
      "----------\n",
      "LR 0.0001\n"
     ]
    },
    {
     "name": "stderr",
     "output_type": "stream",
     "text": [
      "100%|██████████| 527/527 [00:11<00:00, 44.71it/s]\n"
     ]
    },
    {
     "name": "stdout",
     "output_type": "stream",
     "text": [
      "Train loss: 3.054683475056663e-05\n",
      "Epoch 37/49\n",
      "----------\n",
      "LR 0.0001\n"
     ]
    },
    {
     "name": "stderr",
     "output_type": "stream",
     "text": [
      "100%|██████████| 527/527 [00:11<00:00, 44.65it/s]\n"
     ]
    },
    {
     "name": "stdout",
     "output_type": "stream",
     "text": [
      "Train loss: 1.963441536645405e-05\n",
      "Epoch 38/49\n",
      "----------\n",
      "LR 0.0001\n"
     ]
    },
    {
     "name": "stderr",
     "output_type": "stream",
     "text": [
      "100%|██████████| 527/527 [00:11<00:00, 44.75it/s]\n"
     ]
    },
    {
     "name": "stdout",
     "output_type": "stream",
     "text": [
      "Train loss: 1.56544065248454e-05\n",
      "Epoch 39/49\n",
      "----------\n",
      "LR 0.0001\n"
     ]
    },
    {
     "name": "stderr",
     "output_type": "stream",
     "text": [
      "100%|██████████| 527/527 [00:11<00:00, 44.70it/s]\n"
     ]
    },
    {
     "name": "stdout",
     "output_type": "stream",
     "text": [
      "Train loss: 1.4488558917946648e-05\n",
      "Epoch 40/49\n",
      "----------\n",
      "LR 0.0001\n"
     ]
    },
    {
     "name": "stderr",
     "output_type": "stream",
     "text": [
      "100%|██████████| 527/527 [00:11<00:00, 44.65it/s]\n"
     ]
    },
    {
     "name": "stdout",
     "output_type": "stream",
     "text": [
      "Train loss: 1.4409634786716197e-05\n",
      "Epoch 41/49\n",
      "----------\n",
      "LR 0.0001\n"
     ]
    },
    {
     "name": "stderr",
     "output_type": "stream",
     "text": [
      "100%|██████████| 527/527 [00:11<00:00, 44.69it/s]\n"
     ]
    },
    {
     "name": "stdout",
     "output_type": "stream",
     "text": [
      "Train loss: 1.4592305888072588e-05\n",
      "Epoch 42/49\n",
      "----------\n",
      "LR 0.0001\n"
     ]
    },
    {
     "name": "stderr",
     "output_type": "stream",
     "text": [
      "100%|██████████| 527/527 [00:11<00:00, 44.69it/s]\n"
     ]
    },
    {
     "name": "stdout",
     "output_type": "stream",
     "text": [
      "Train loss: 1.4719992577738594e-05\n",
      "Epoch 43/49\n",
      "----------\n",
      "LR 0.0001\n"
     ]
    },
    {
     "name": "stderr",
     "output_type": "stream",
     "text": [
      "100%|██████████| 527/527 [00:11<00:00, 44.64it/s]\n"
     ]
    },
    {
     "name": "stdout",
     "output_type": "stream",
     "text": [
      "Train loss: 1.4556893802364357e-05\n",
      "Epoch 44/49\n",
      "----------\n",
      "LR 0.0001\n"
     ]
    },
    {
     "name": "stderr",
     "output_type": "stream",
     "text": [
      "100%|██████████| 527/527 [00:11<00:00, 44.82it/s]\n"
     ]
    },
    {
     "name": "stdout",
     "output_type": "stream",
     "text": [
      "Train loss: 1.4544460100296419e-05\n",
      "Epoch 45/49\n",
      "----------\n",
      "LR 0.0001\n"
     ]
    },
    {
     "name": "stderr",
     "output_type": "stream",
     "text": [
      "100%|██████████| 527/527 [00:11<00:00, 44.64it/s]\n"
     ]
    },
    {
     "name": "stdout",
     "output_type": "stream",
     "text": [
      "Train loss: 4.626567169907503e-05\n",
      "Epoch 46/49\n",
      "----------\n",
      "LR 0.0001\n"
     ]
    },
    {
     "name": "stderr",
     "output_type": "stream",
     "text": [
      "100%|██████████| 527/527 [00:11<00:00, 44.70it/s]\n"
     ]
    },
    {
     "name": "stdout",
     "output_type": "stream",
     "text": [
      "Train loss: 2.8133335945312865e-05\n",
      "Epoch 47/49\n",
      "----------\n",
      "LR 0.0001\n"
     ]
    },
    {
     "name": "stderr",
     "output_type": "stream",
     "text": [
      "100%|██████████| 527/527 [00:11<00:00, 44.54it/s]\n"
     ]
    },
    {
     "name": "stdout",
     "output_type": "stream",
     "text": [
      "Train loss: 1.4556791029463056e-05\n",
      "Epoch 48/49\n",
      "----------\n",
      "LR 0.0001\n"
     ]
    },
    {
     "name": "stderr",
     "output_type": "stream",
     "text": [
      "100%|██████████| 527/527 [00:11<00:00, 44.50it/s]\n"
     ]
    },
    {
     "name": "stdout",
     "output_type": "stream",
     "text": [
      "Train loss: 1.2657671504712198e-05\n",
      "Epoch 49/49\n",
      "----------\n",
      "LR 0.0001\n"
     ]
    },
    {
     "name": "stderr",
     "output_type": "stream",
     "text": [
      "100%|██████████| 527/527 [00:11<00:00, 44.55it/s]\n"
     ]
    },
    {
     "name": "stdout",
     "output_type": "stream",
     "text": [
      "Train loss: 1.1976357200182974e-05\n"
     ]
    },
    {
     "data": {
      "image/png": "[encoded data removed]",
      "text/plain": [
       "<Figure size 640x480 with 1 Axes>"
      ]
     },
     "metadata": {},
     "output_type": "display_data"
    }
   ],
   "source": [
    "num_class = 1 \n",
    "device = torch.device(\"cuda:0\" if torch.cuda.is_available() else \"cpu\")\n",
    "\n",
    "model = UNet(num_class).to(device)\n",
    "\n",
    "optimizer_ft = optim.Adam(filter(lambda p: p.requires_grad, model.parameters()), lr=1e-4)\n",
    "\n",
    "model = train_model(model, optimizer_ft, num_epochs=50)"
   ]
  },
  {
   "cell_type": "markdown",
   "id": "e64b9b3d-90d5-4f2c-a83c-eb57a7caae87",
   "metadata": {},
   "source": [
    "### Save model checkpoint here"
   ]
  },
  {
   "cell_type": "code",
   "execution_count": 30,
   "id": "7385c34e-5f0d-4092-88fb-8e763c98ecf2",
   "metadata": {},
   "outputs": [],
   "source": [
    "## Save the model here\n",
    "import torch\n",
    "import torchvision.models as models"
   ]
  },
  {
   "cell_type": "code",
   "execution_count": 31,
   "id": "58f68319-eba0-4a0a-9b14-80eb9104bee6",
   "metadata": {},
   "outputs": [],
   "source": [
    "torch.save(model.state_dict(), 'model_weights.pth')"
   ]
  },
  {
   "cell_type": "code",
   "execution_count": 34,
   "id": "ef403e7d-076f-483c-8fc2-2749860bd964",
   "metadata": {},
   "outputs": [
    {
     "data": {
      "text/plain": [
       "UNet(\n",
       "  (e11): Conv2d(3, 64, kernel_size=(3, 3), stride=(1, 1), padding=(1, 1))\n",
       "  (e12): Conv2d(64, 64, kernel_size=(3, 3), stride=(1, 1), padding=(1, 1))\n",
       "  (pool1): MaxPool2d(kernel_size=2, stride=2, padding=0, dilation=1, ceil_mode=False)\n",
       "  (e21): Conv2d(64, 128, kernel_size=(3, 3), stride=(1, 1), padding=(1, 1))\n",
       "  (e22): Conv2d(128, 128, kernel_size=(3, 3), stride=(1, 1), padding=(1, 1))\n",
       "  (pool2): MaxPool2d(kernel_size=2, stride=2, padding=0, dilation=1, ceil_mode=False)\n",
       "  (e31): Conv2d(128, 256, kernel_size=(3, 3), stride=(1, 1), padding=(1, 1))\n",
       "  (e32): Conv2d(256, 256, kernel_size=(3, 3), stride=(1, 1), padding=(1, 1))\n",
       "  (pool3): MaxPool2d(kernel_size=2, stride=2, padding=0, dilation=1, ceil_mode=False)\n",
       "  (e41): Conv2d(256, 512, kernel_size=(3, 3), stride=(1, 1), padding=(1, 1))\n",
       "  (e42): Conv2d(512, 512, kernel_size=(3, 3), stride=(1, 1), padding=(1, 1))\n",
       "  (pool4): MaxPool2d(kernel_size=2, stride=2, padding=0, dilation=1, ceil_mode=False)\n",
       "  (e51): Conv2d(512, 1024, kernel_size=(3, 3), stride=(1, 1), padding=(1, 1))\n",
       "  (e52): Conv2d(1024, 1024, kernel_size=(3, 3), stride=(1, 1), padding=(1, 1))\n",
       "  (upconv1): ConvTranspose2d(1024, 512, kernel_size=(2, 2), stride=(2, 2))\n",
       "  (d11): Conv2d(1024, 512, kernel_size=(3, 3), stride=(1, 1), padding=(1, 1))\n",
       "  (d12): Conv2d(512, 512, kernel_size=(3, 3), stride=(1, 1), padding=(1, 1))\n",
       "  (upconv2): ConvTranspose2d(512, 256, kernel_size=(2, 2), stride=(2, 2))\n",
       "  (d21): Conv2d(512, 256, kernel_size=(3, 3), stride=(1, 1), padding=(1, 1))\n",
       "  (d22): Conv2d(256, 256, kernel_size=(3, 3), stride=(1, 1), padding=(1, 1))\n",
       "  (upconv3): ConvTranspose2d(256, 128, kernel_size=(2, 2), stride=(2, 2))\n",
       "  (d31): Conv2d(256, 128, kernel_size=(3, 3), stride=(1, 1), padding=(1, 1))\n",
       "  (d32): Conv2d(128, 128, kernel_size=(3, 3), stride=(1, 1), padding=(1, 1))\n",
       "  (upconv4): ConvTranspose2d(128, 64, kernel_size=(2, 2), stride=(2, 2))\n",
       "  (d41): Conv2d(128, 64, kernel_size=(3, 3), stride=(1, 1), padding=(1, 1))\n",
       "  (d42): Conv2d(64, 64, kernel_size=(3, 3), stride=(1, 1), padding=(1, 1))\n",
       "  (outconv): Conv2d(64, 1, kernel_size=(1, 1), stride=(1, 1))\n",
       ")"
      ]
     },
     "execution_count": 34,
     "metadata": {},
     "output_type": "execute_result"
    }
   ],
   "source": [
    "## Load the model here\n",
    "model = UNet(1) # we do not specify ``weights``, i.e. create untrained model\n",
    "model.load_state_dict(torch.load('model_weights.pth'))\n",
    "model.eval()"
   ]
  },
  {
   "cell_type": "markdown",
   "id": "772eb4e0",
   "metadata": {},
   "source": [
    "### Evaluate model for 1 test image\n",
    "\n"
   ]
  },
  {
   "cell_type": "code",
   "execution_count": 13,
   "id": "911e196f",
   "metadata": {},
   "outputs": [
    {
     "name": "stdout",
     "output_type": "stream",
     "text": [
      "inputs shape torch.Size([1, 3, 256, 256])\n",
      "labels shape torch.Size([1, 1, 256, 256])\n"
     ]
    }
   ],
   "source": [
    "model.eval()  # Set model to the evaluation mode\n",
    "\n",
    "test_loader  = torch.utils.data.DataLoader(test_ds,  batch_size=1, shuffle=True) # this line is repeated\n",
    "\n",
    "# Get the first batch\n",
    "inputs, labels = next(iter(test_loader))\n",
    "inputs = inputs.to(device)\n",
    "labels = labels.to(device)\n",
    "print(\"inputs shape\", inputs.shape)\n",
    "print(\"labels shape\", labels.shape)\n"
   ]
  },
  {
   "cell_type": "code",
   "execution_count": 14,
   "id": "b92e618e",
   "metadata": {},
   "outputs": [
    {
     "name": "stdout",
     "output_type": "stream",
     "text": [
      "predicted mask shape torch.Size([1, 1, 256, 256])\n",
      "(1, 1, 256, 256)\n",
      "inputs shape torch.Size([3, 256, 256])\n",
      "Labels shape (1, 1, 256, 256)\n"
     ]
    }
   ],
   "source": [
    "# Predict\n",
    "pred = model(inputs)\n",
    "# pred = pred.to(device)\n",
    "# The loss functions include the sigmoid function.\n",
    "pred = F.sigmoid(pred)\n",
    "pred_seg = pred.data.cpu().numpy()\n",
    "print(\"predicted mask shape\", pred.shape)\n",
    "pred_seg = (pred_seg > 0.5).astype(np.uint8)\n",
    "print(pred_seg.shape)\n",
    "inputs = inputs.squeeze(0)\n",
    "print(\"inputs shape\", inputs.shape)\n",
    "print(\"Labels shape\", labels.cpu().numpy().shape)"
   ]
  },
  {
   "cell_type": "markdown",
   "id": "9e8de5bb",
   "metadata": {},
   "source": [
    "### Metrics For Test Image"
   ]
  },
  {
   "cell_type": "code",
   "execution_count": 17,
   "id": "52ce8182",
   "metadata": {},
   "outputs": [],
   "source": [
    "from torchmetrics.classification import BinaryAccuracy\n",
    "from torchmetrics.classification import BinaryPrecision\n",
    "from torchmetrics.classification import BinaryRecall\n",
    "from torchmetrics.classification import BinaryF1Score"
   ]
  },
  {
   "cell_type": "markdown",
   "id": "3dc91cef",
   "metadata": {},
   "source": [
    "Metrics from here: https://lightning.ai/docs/torchmetrics/stable/classification/accuracy.html"
   ]
  },
  {
   "cell_type": "code",
   "execution_count": 18,
   "id": "d9bb4523",
   "metadata": {},
   "outputs": [],
   "source": [
    "labels = (labels>0.5).float()"
   ]
  },
  {
   "cell_type": "code",
   "execution_count": 19,
   "id": "753ad1d4",
   "metadata": {},
   "outputs": [
    {
     "data": {
      "text/plain": [
       "tensor(0.9891, device='cuda:0')"
      ]
     },
     "execution_count": 19,
     "metadata": {},
     "output_type": "execute_result"
    }
   ],
   "source": [
    "metric1 = BinaryAccuracy().to(device)\n",
    "metric1(pred, labels)"
   ]
  },
  {
   "cell_type": "code",
   "execution_count": 20,
   "id": "8b5c4234",
   "metadata": {},
   "outputs": [
    {
     "data": {
      "text/plain": [
       "tensor(0.9882, device='cuda:0')"
      ]
     },
     "execution_count": 20,
     "metadata": {},
     "output_type": "execute_result"
    }
   ],
   "source": [
    "metric2 = BinaryPrecision().to(device)\n",
    "metric2(pred,labels)"
   ]
  },
  {
   "cell_type": "code",
   "execution_count": 21,
   "id": "51cdb2a5",
   "metadata": {},
   "outputs": [
    {
     "data": {
      "text/plain": [
       "tensor(0.9654, device='cuda:0')"
      ]
     },
     "execution_count": 21,
     "metadata": {},
     "output_type": "execute_result"
    }
   ],
   "source": [
    "metric3 = BinaryRecall().to(device)\n",
    "metric3(pred,labels)"
   ]
  },
  {
   "cell_type": "code",
   "execution_count": 22,
   "id": "caacf13f",
   "metadata": {},
   "outputs": [
    {
     "data": {
      "text/plain": [
       "tensor(0.9767, device='cuda:0')"
      ]
     },
     "execution_count": 22,
     "metadata": {},
     "output_type": "execute_result"
    }
   ],
   "source": [
    "metric4 = BinaryF1Score().to(device)\n",
    "metric4(pred,labels)"
   ]
  },
  {
   "cell_type": "markdown",
   "id": "cee00875",
   "metadata": {},
   "source": [
    "## View Test Image"
   ]
  },
  {
   "cell_type": "markdown",
   "id": "54087240",
   "metadata": {},
   "source": [
    "### Original mask"
   ]
  },
  {
   "cell_type": "code",
   "execution_count": 23,
   "id": "01f42cca",
   "metadata": {},
   "outputs": [
    {
     "name": "stdout",
     "output_type": "stream",
     "text": [
      "torch.Size([256, 256])\n"
     ]
    }
   ],
   "source": [
    "labels = labels.cpu()\n",
    "labels = labels.squeeze()\n",
    "print(labels.shape)\n",
    "\n",
    "# plt.imshow(labels)\n",
    "# plt.show()"
   ]
  },
  {
   "cell_type": "markdown",
   "id": "043fe461",
   "metadata": {},
   "source": [
    "### Model Generated Mask"
   ]
  },
  {
   "cell_type": "code",
   "execution_count": 24,
   "id": "dfd26fde",
   "metadata": {},
   "outputs": [
    {
     "name": "stdout",
     "output_type": "stream",
     "text": [
      "(256, 256)\n"
     ]
    }
   ],
   "source": [
    "pred_seg = pred_seg.squeeze()\n",
    "print(pred_seg.shape)\n",
    "\n",
    "# plt.imshow(pred_seg)\n",
    "# plt.show()"
   ]
  },
  {
   "cell_type": "markdown",
   "id": "f3bf5e2a",
   "metadata": {},
   "source": [
    "### Original image"
   ]
  },
  {
   "cell_type": "code",
   "execution_count": 25,
   "id": "3fe3d220",
   "metadata": {
    "scrolled": true
   },
   "outputs": [
    {
     "name": "stdout",
     "output_type": "stream",
     "text": [
      "torch.Size([256, 256, 3])\n"
     ]
    }
   ],
   "source": [
    "inputs = inputs.cpu()\n",
    "#image = inputs/(255.0)\n",
    "image = inputs.permute(1,2,0)\n",
    "print(image.shape)\n",
    "\n",
    "# plt.imshow(image)\n",
    "# plt.show()"
   ]
  },
  {
   "cell_type": "markdown",
   "id": "378a70b1",
   "metadata": {},
   "source": [
    "### Image with mask overlay"
   ]
  },
  {
   "cell_type": "markdown",
   "id": "2e1a1423",
   "metadata": {},
   "source": [
    "Code taken from here to do the overlays: https://stackoverflow.com/questions/10127284/overlay-imshow-plots-in-matplotlib"
   ]
  },
  {
   "cell_type": "code",
   "execution_count": 26,
   "id": "40518a9d",
   "metadata": {},
   "outputs": [],
   "source": [
    "from matplotlib.colors import colorConverter\n",
    "import matplotlib.pyplot as plt\n",
    "import numpy as np\n",
    "import matplotlib as mpl\n",
    "\n",
    "# create dummy data\n",
    "inputs = inputs.cpu()\n",
    "#image = inputs/(255.0)\n",
    "image = inputs.permute(1,2,0)\n",
    "zvals = image\n",
    "zvals2 = pred_seg\n",
    "\n",
    "# generate the colors for your colormap\n",
    "color1 = colorConverter.to_rgba('black')\n",
    "color2 = colorConverter.to_rgba('yellow')\n",
    "\n",
    "# make the colormaps\n",
    "cmap1 = mpl.colors.LinearSegmentedColormap.from_list('my_cmap',['red','green'],256)\n",
    "cmap2 = mpl.colors.LinearSegmentedColormap.from_list('my_cmap2',[color1,color2],256)\n",
    "\n",
    "cmap2._init() # create the _lut array, with rgba values\n",
    "\n",
    "# create your alpha array and fill the colormap with them.\n",
    "# here it is progressive, but you can create whathever you want\n",
    "alphas = np.linspace(0, 0.8, cmap2.N+3)\n",
    "cmap2._lut[:,-1] = alphas\n",
    "\n",
    "# img2 = plt.imshow(zvals, interpolation='nearest', cmap=cmap1, origin='upper')\n",
    "# img3 = plt.imshow(zvals2, interpolation='nearest', cmap=cmap2, origin='upper')\n",
    "\n",
    "# plt.show()"
   ]
  },
  {
   "cell_type": "markdown",
   "id": "c8478f2a",
   "metadata": {},
   "source": [
    "## Evaluate model for all test images"
   ]
  },
  {
   "cell_type": "code",
   "execution_count": 27,
   "id": "d34474df",
   "metadata": {},
   "outputs": [
    {
     "name": "stderr",
     "output_type": "stream",
     "text": [
      "100%|██████████| 116/116 [00:02<00:00, 42.56it/s]\n"
     ]
    }
   ],
   "source": [
    "accuracies = []\n",
    "precisions = []\n",
    "recalls = []\n",
    "f1scores = []\n",
    "for i, (image, gt_mask) in enumerate(tqdm(test_loader)):\n",
    "    inputs = image.to(device)\n",
    "    labels = gt_mask.to(device)\n",
    "\n",
    "    outputs = model(inputs)\n",
    "    \n",
    "    #Binarize target mask\n",
    "    labels = (labels>0.5).float()\n",
    "\n",
    "    #Accuracy\n",
    "    metric1 = BinaryAccuracy().to(device)\n",
    "    acc = metric1(outputs, labels)\n",
    "    accuracies.append(acc.item())\n",
    "\n",
    "    \n",
    "    #Precision\n",
    "    metric2 = BinaryPrecision().to(device)\n",
    "    prec = metric2(outputs, labels)\n",
    "    precisions.append(prec.item())\n",
    "    \n",
    "    #Recall\n",
    "    metric3 = BinaryRecall().to(device)\n",
    "    rec = metric3(outputs, labels)\n",
    "    recalls.append(rec.item())\n",
    "\n",
    "    #F1\n",
    "    metric4 = BinaryF1Score().to(device)\n",
    "    f1_s = metric4(outputs, labels)\n",
    "    f1scores.append(f1_s.item())\n",
    "\n"
   ]
  },
  {
   "cell_type": "code",
   "execution_count": 28,
   "id": "a67c845b",
   "metadata": {},
   "outputs": [
    {
     "name": "stdout",
     "output_type": "stream",
     "text": [
      "0.990734758048222\n",
      "0.9817432252497509\n",
      "0.96905434080239\n",
      "0.9738472926205602\n"
     ]
    }
   ],
   "source": [
    "print(np.average(accuracies))\n",
    "print(np.average(precisions))\n",
    "print(np.average(recalls))\n",
    "print(np.average(f1scores))"
   ]
  },
  {
   "cell_type": "markdown",
   "id": "be48a0f6",
   "metadata": {},
   "source": [
    "### To see summary/parameters of model"
   ]
  },
  {
   "cell_type": "code",
   "execution_count": null,
   "id": "59170cdb",
   "metadata": {},
   "outputs": [],
   "source": [
    "import pytorch_model_summary as pms"
   ]
  },
  {
   "cell_type": "code",
   "execution_count": null,
   "id": "ea64f541",
   "metadata": {
    "scrolled": true
   },
   "outputs": [],
   "source": [
    "model = UNet(2)\n",
    "print(pms.summary(\n",
    "            model,\n",
    "            torch.zeros((8, 3, 256, 256)),\n",
    "            show_input=True\n",
    "        ))"
   ]
  },
  {
   "cell_type": "markdown",
   "id": "242bfd42",
   "metadata": {},
   "source": [
    "## Exporting to ONNX"
   ]
  },
  {
   "cell_type": "code",
   "execution_count": null,
   "id": "3a772d38",
   "metadata": {},
   "outputs": [],
   "source": [
    "# Some standard imports\n",
    "from torch import nn\n",
    "import torch.utils.model_zoo as model_zoo\n",
    "import torch.onnx\n",
    "import onnxruntime\n",
    "import onnx"
   ]
  },
  {
   "cell_type": "code",
   "execution_count": null,
   "id": "51609b82",
   "metadata": {},
   "outputs": [],
   "source": [
    "x = torch.randn(batch_size, 3, 256, 256, requires_grad=True).to(device)\n",
    "torch_out = model(x)\n",
    "torch.onnx.export(model, \n",
    "                  x, \n",
    "                  \"UNet.onnx\",\n",
    "                 export_params = True,\n",
    "                 opset_version=10,\n",
    "                 do_constant_folding=True,\n",
    "                 input_names = ['input'],   # the model's input names\n",
    "                  output_names = ['output'], # the model's output names\n",
    "                  dynamic_axes={'input' : {0 : 'batch_size'},    # variable length axes\n",
    "                                'output' : {0 : 'batch_size'}})"
   ]
  },
  {
   "cell_type": "code",
   "execution_count": null,
   "id": "e38d4e33",
   "metadata": {},
   "outputs": [],
   "source": [
    "onnx_model = onnx.load(\"UNet.onnx\")\n",
    "onnx.checker.check_model(onnx_model)"
   ]
  },
  {
   "cell_type": "code",
   "execution_count": null,
   "id": "771944af",
   "metadata": {},
   "outputs": [],
   "source": [
    "ort_session = onnxruntime.InferenceSession(\"UNet.onnx\", providers=[\"CPUExecutionProvider\"])\n",
    "\n",
    "def to_numpy(tensor):\n",
    "    return tensor.detach().cpu().numpy() if tensor.requires_grad else tensor.cpu().numpy()\n",
    "\n",
    "# compute ONNX Runtime output prediction\n",
    "ort_inputs = {ort_session.get_inputs()[0].name: to_numpy(x)}\n",
    "\n",
    "start_time = time.perf_counter()\n",
    "for i in range(1000):\n",
    "    ort_outs = ort_session.run(None, ort_inputs)\n",
    "end_time = time.perf_counter()\n",
    "print(\"Mean inference time\", (end_time - start_time)/1000)\n",
    "\n",
    "# compare ONNX Runtime and PyTorch results\n",
    "np.testing.assert_allclose(to_numpy(torch_out), ort_outs[0], rtol=1e-03, atol=1e-05)\n",
    "\n",
    "print(\"Exported model has been tested with ONNXRuntime, and the result looks good!\")"
   ]
  },
  {
   "cell_type": "code",
   "execution_count": null,
   "id": "4bb76365",
   "metadata": {},
   "outputs": [],
   "source": [
    "print(\"Mean inference time\", (end_time - start_time)/1000)"
   ]
  }
 ],
 "metadata": {
  "kernelspec": {
   "display_name": "Python 3 (ipykernel)",
   "language": "python",
   "name": "python3"
  },
  "language_info": {
   "codemirror_mode": {
    "name": "ipython",
    "version": 3
   },
   "file_extension": ".py",
   "mimetype": "text/x-python",
   "name": "python",
   "nbconvert_exporter": "python",
   "pygments_lexer": "ipython3",
   "version": "3.9.13"
  }
 },
 "nbformat": 4,
 "nbformat_minor": 5
}
